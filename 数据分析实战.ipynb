{
 "cells": [
  {
   "cell_type": "markdown",
   "id": "f54d666c-c628-4e5b-9bd2-c2202bc9f892",
   "metadata": {},
   "source": [
    "# 读取数据"
   ]
  },
  {
   "cell_type": "code",
   "execution_count": null,
   "id": "2e27f65e-e28c-4e2e-83d2-99f62dc46b53",
   "metadata": {},
   "outputs": [],
   "source": [
    "import pandas as pd"
   ]
  },
  {
   "cell_type": "code",
   "execution_count": null,
   "id": "df57105d-6490-401e-a9a2-9788657c2e42",
   "metadata": {},
   "outputs": [],
   "source": [
    "original_data pd.read_csv（“ecommerce.csv\"）"
   ]
  },
  {
   "cell_type": "code",
   "execution_count": null,
   "id": "1b3b5b2c-bc11-4b14-ad27-e49edde36482",
   "metadata": {},
   "outputs": [],
   "source": [
    "original data.head()"
   ]
  },
  {
   "cell_type": "markdown",
   "id": "cf146007-d494-4afb-9818-3f64b8dc53fe",
   "metadata": {},
   "source": [
    "# 评估数据"
   ]
  },
  {
   "cell_type": "markdown",
   "id": "a1a542e6-6653-433f-94a7-3c4a2b426f31",
   "metadata": {},
   "source": [
    "### 评估数据整齐度"
   ]
  },
  {
   "cell_type": "code",
   "execution_count": null,
   "id": "78d4808f-f892-4f2b-82ae-4581e21bc270",
   "metadata": {},
   "outputs": [],
   "source": [
    "original data.sample（10)"
   ]
  },
  {
   "cell_type": "markdown",
   "id": "a7571d7e-dc33-4548-9d10-a51771dfc2ef",
   "metadata": {},
   "source": [
    "### 评估数据干净度"
   ]
  },
  {
   "cell_type": "code",
   "execution_count": null,
   "id": "83732c5a-556c-4d15-9488-e068152d4935",
   "metadata": {},
   "outputs": [],
   "source": [
    "originaldata.info()缺失值、时间、字符串、浮点数等的转换"
   ]
  },
  {
   "cell_type": "markdown",
   "id": "d73908f1-a566-43af-a38e-931da55e19ac",
   "metadata": {},
   "source": [
    "#### 评估缺失数据"
   ]
  },
  {
   "cell_type": "code",
   "execution_count": null,
   "id": "d02eeed2-2c8d-4042-93f5-b2189d312dad",
   "metadata": {},
   "outputs": [],
   "source": [
    "original data[original data[\"Description\"].isnull()]\n",
    "original data[（original data[\"Description\"].isnull())&（original data[\"UnitPrice\"], != 0)]\n",
    "不具备评估意义，可以删除"
   ]
  },
  {
   "cell_type": "code",
   "execution_count": null,
   "id": "23f0c976-3e2d-4f38-8fc5-01fa810f7a62",
   "metadata": {},
   "outputs": [],
   "source": [
    "original_data[original_data[\"CustomerID\"].isnull()]\n",
    "缺失，但不影响评估，可以保留"
   ]
  },
  {
   "cell_type": "markdown",
   "id": "18f8d64e-f1b6-4d75-9c5b-898b70ff648f",
   "metadata": {},
   "source": [
    "#### 评估重复数据"
   ]
  },
  {
   "cell_type": "code",
   "execution_count": null,
   "id": "1bd92555-3f3b-4843-8061-0ff18e2dbc91",
   "metadata": {},
   "outputs": [],
   "source": [
    "是否为唯一标识符，或者确认是否可以重复，一个客户单可以购买很多商品"
   ]
  },
  {
   "cell_type": "markdown",
   "id": "a09dd173-6815-4a33-b1fa-dba5ab2448e1",
   "metadata": {},
   "source": [
    "#### 评估不一致数据"
   ]
  },
  {
   "cell_type": "code",
   "execution_count": null,
   "id": "3d493c1a-e752-42c1-aca5-f10304d3c19c",
   "metadata": {},
   "outputs": [],
   "source": [
    "original data[\"Country\"].value_counts()\n",
    "United Kingdom"
   ]
  },
  {
   "cell_type": "markdown",
   "id": "f6dd302b-41a2-4c10-8d6c-d69a7889777d",
   "metadata": {},
   "source": [
    "#### 评估无效或错误数据"
   ]
  },
  {
   "cell_type": "code",
   "execution_count": null,
   "id": "c6f62551-379a-4828-b206-47d89ab6953b",
   "metadata": {},
   "outputs": [],
   "source": [
    "original data.describe()"
   ]
  },
  {
   "cell_type": "code",
   "execution_count": 6,
   "id": "c88fcfe4-f61b-4135-bca2-a0c95d42201d",
   "metadata": {},
   "outputs": [
    {
     "ename": "SyntaxError",
     "evalue": "invalid character '“' (U+201C) (125256284.py, line 2)",
     "output_type": "error",
     "traceback": [
      "  \u001b[36mCell\u001b[39m\u001b[36m \u001b[39m\u001b[32mIn[6]\u001b[39m\u001b[32m, line 2\u001b[39m\n\u001b[31m    \u001b[39m\u001b[31moriginal data[original data[\"Quantity\"]< 0]如果这个代码以字母“c开头，表示这笔交易被取消\u001b[39m\n                                                        ^\n\u001b[31mSyntaxError\u001b[39m\u001b[31m:\u001b[39m invalid character '“' (U+201C)\n"
     ]
    }
   ],
   "source": [
    "Quantity存在大量负数\n",
    "original_data[original_data[\"Quantity\"]< 0]如果这个代码以字母“c开头，表示这笔交易被取消\n",
    "验证\n",
    "original_data[（original_data[\"Quantity\"]<0)&（original_data[\"InvoiceNo\"].str[0]!=“C\"）\n",
    "存在不退货也为0\n",
    "验证\n",
    "original data[（originaldata[\"Quantity\"]<0)&（original_data[\"InvoiceNo\"].str[0]!=“C\"）&(original data[\"UnitPrice\"l !=0)\n",
    "Quantity存在大量负数因为取消和价格为0\n",
    "需要全部删除\n"
   ]
  },
  {
   "cell_type": "code",
   "execution_count": null,
   "id": "9b82cc67-077b-441f-aa7c-fb5cfaef5e55",
   "metadata": {},
   "outputs": [],
   "source": [
    "original data[original data[\"UnitPrice\"]< 0]\n",
    "UnitPrice有小于0的值"
   ]
  },
  {
   "cell_type": "code",
   "execution_count": null,
   "id": "dd39204b-12ba-46df-8485-d86390fbe677",
   "metadata": {},
   "outputs": [],
   "source": [
    "列出清理代办\n",
    "把InvoiceDate变量的数据类型转换为为日期时间\n",
    "把CustomerID变量的数据类型转换为字符串\n",
    "把Description变量缺失的观察值删除\n",
    "把Country变量值“uSA替换为“United States\n",
    "把country变量值“uk”、“u.K.”替换为“United Kingdom”\n",
    "把Quantity变量值为负数的观察值删除\n",
    "把UnitPrice变量值为负数的观察值删除"
   ]
  },
  {
   "cell_type": "code",
   "execution_count": null,
   "id": "2c9bc542-a146-4fc9-915e-4e8ab7aacca9",
   "metadata": {},
   "outputs": [],
   "source": [
    "cleaned data = original data.copy()\n",
    "验证cleaned data.head()"
   ]
  },
  {
   "cell_type": "code",
   "execution_count": null,
   "id": "a4505789-8ce4-4df0-88a6-70f5e9ca8591",
   "metadata": {},
   "outputs": [],
   "source": [
    "把InvoiceDate变量的数据类型转换为为日期时间pd.to_datetime\n",
    "    cleaneddata[\"InvoiceDate\"] = pd.to_datetime（cleaned_data[\"InvoiceDate\"])\n",
    "把CustomerID变量的数据类型转换为字符串：\n",
    "    cleaned data[\"CustomerID\"] = cleaned data[\"CustomerID\"].astype(str)\n",
    "        客户编号额外增加了小数点需删除.0\n",
    "        cleaneddata[\"CustomerID\"]=cleaned data[\"CustomerID\"].str.slice(0,-2)\n",
    "把Description变量缺失的观察值删除，并查看删除后该列空缺值个数和：\n",
    "    cleaned_data.dropna(subset=[\"Description\"], inplace=True)\n",
    "    验证清理是否完成cleaned data[\"Description\"].isnull().sum()\n",
    "把country变量值\"uSA替换为\"UnitedStates\n",
    "    cleaned_data[\"Country\"] =cleaned_data[\"Country\"].replace((\"usA\":\"United States\"))\n",
    "    验证len(cleaned_data[cleaned_data[\"Country\"]==\"USA\"])\n",
    "把Country变量值“uK”、“U.K.”替换为“United Kingdom”，并检查替换后“UK”和“U.K.”变量值个数：\n",
    "    cleaned_data[\"Country\"] = cleaned_data[\"Country\"].replace（(\"UK\":“United Kingdom”,\"U.k.\":\"United Kingdom\"})\n",
    "    验证print(len(cleaned data[cleaned data[\"Country\"]\"UK\"]）)\n",
    "        print(len(cleaned_data[cleaned data[\"Country\"]\"U.K.“1))\n",
    "把Quantity变量值为负数的观察值删除，并检查替换后Quantity变量值为负数的个数：筛选出大于0的\n",
    "    clened data = cleaned_data[cleaned_data[\"Quantity\"]>=01]\n",
    "    验证len(cleaned_data[cleaned_data[\"Quantity\"] <0])\n",
    "    cleaned data = cleaned data[cleaned_data[\"UnitPrice\"] >= 0]\n",
    "    验证len(cleaned_data[cleaned data[\"UnitPrice\"] < 0])"
   ]
  },
  {
   "cell_type": "markdown",
   "id": "a31317d3-219d-4da8-bf2b-ec3d77d72929",
   "metadata": {},
   "source": [
    "# 保存清理后的数据"
   ]
  },
  {
   "cell_type": "code",
   "execution_count": null,
   "id": "94f9dae2-9584-49c2-a827-d29fdf332e7d",
   "metadata": {},
   "outputs": [],
   "source": [
    "cleaned data.to csv(\"e commerce _cleaned.csv\", index=False)\n",
    "验证\n",
    "pd.read_csv(\"e_commerce_cleaned.csv\").head()"
   ]
  },
  {
   "cell_type": "markdown",
   "id": "40943b99-290b-45e7-b218-a5bc79fe332b",
   "metadata": {},
   "source": [
    "# 如何把输出项目放到Github简历上"
   ]
  },
  {
   "cell_type": "code",
   "execution_count": null,
   "id": "1296ab57-a3a8-4306-b711-e1e30c9277ee",
   "metadata": {},
   "outputs": [],
   "source": []
  }
 ],
 "metadata": {
  "kernelspec": {
   "display_name": "Python 3 (ipykernel)",
   "language": "python",
   "name": "python3"
  },
  "language_info": {
   "codemirror_mode": {
    "name": "ipython",
    "version": 3
   },
   "file_extension": ".py",
   "mimetype": "text/x-python",
   "name": "python",
   "nbconvert_exporter": "python",
   "pygments_lexer": "ipython3",
   "version": "3.13.2"
  }
 },
 "nbformat": 4,
 "nbformat_minor": 5
}
